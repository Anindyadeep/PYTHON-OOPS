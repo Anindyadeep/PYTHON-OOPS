{
 "metadata": {
  "language_info": {
   "codemirror_mode": {
    "name": "ipython",
    "version": 3
   },
   "file_extension": ".py",
   "mimetype": "text/x-python",
   "name": "python",
   "nbconvert_exporter": "python",
   "pygments_lexer": "ipython3",
   "version": "3.9.4"
  },
  "orig_nbformat": 2,
  "kernelspec": {
   "name": "python394jvsc74a57bd0f9365ada79d4ca070e42fe521b3f822dc5811645815a88dda998e5a755279ac6",
   "display_name": "Python 3.9.4 64-bit ('segmind': conda)"
  },
  "metadata": {
   "interpreter": {
    "hash": "f9365ada79d4ca070e42fe521b3f822dc5811645815a88dda998e5a755279ac6"
   }
  }
 },
 "nbformat": 4,
 "nbformat_minor": 2,
 "cells": [
  {
   "source": [
    "## PART 1 \n",
    "1. ** WHAT ARE CLASSES**\n",
    "2. ** HOW TO USE METHODS**"
   ],
   "cell_type": "markdown",
   "metadata": {}
  },
  {
   "cell_type": "code",
   "execution_count": 8,
   "metadata": {},
   "outputs": [],
   "source": [
    "class SoftwareEngg:\n",
    "    # class attributes (which is same for every instances and remains unchanges)\n",
    "    alias = \"Keyboard Magician\"\n",
    "\n",
    "    # making a constructor of the class\n",
    "    def __init__(self, name, age, level, salary):\n",
    "        # all the attributes/properties --> instance attributes\n",
    "        self.name = name\n",
    "        self.age = age\n",
    "        self.level = level\n",
    "        self.salary = salary"
   ]
  },
  {
   "cell_type": "code",
   "execution_count": 9,
   "metadata": {},
   "outputs": [
    {
     "output_type": "display_data",
     "data": {
      "text/plain": "Max \u001b[1;36m20\u001b[0m Junior \u001b[1;36m5000\u001b[0m\n",
      "text/html": "<pre style=\"white-space:pre;overflow-x:auto;line-height:normal;font-family:Menlo,'DejaVu Sans Mono',consolas,'Courier New',monospace\">Max <span style=\"color: #008080; text-decoration-color: #008080; font-weight: bold\">20</span> Junior <span style=\"color: #008080; text-decoration-color: #008080; font-weight: bold\">5000</span>\n</pre>\n"
     },
     "metadata": {}
    }
   ],
   "source": [
    "se1 = SoftwareEngg(\"Max\", 20, \"Junior\", 5000)\n",
    "print(se1.name, se1.age, se1.level, se1.salary)"
   ]
  },
  {
   "source": [
    "### recap till here (what I can do now) -->\n",
    "\n",
    "1. Create a class (blueprint)\n",
    "2. Create an instance (object)\n",
    "3. Class vs Instance\n",
    "4. Instance attributes defined in __init__ (self parameter)\n",
    "5. Class attributes (remaines constant for all the instances)\n"
   ],
   "cell_type": "markdown",
   "metadata": {}
  },
  {
   "source": [
    "### Creating instace methods in class\n",
    "why we are doing it:\n",
    "\n",
    "as we know as the class is a bluprint of how the things should look like and \n",
    "so defining the instance functions will be only be defined for the instances of the specific classes\n",
    "and not applicable for the other classes"
   ],
   "cell_type": "markdown",
   "metadata": {}
  },
  {
   "cell_type": "code",
   "execution_count": 63,
   "metadata": {},
   "outputs": [],
   "source": [
    "class SoftwareEngg:\n",
    "    # class attributes (which is same for every instances and remains unchanges)\n",
    "    alias = \"Keyboard Magician\"\n",
    "\n",
    "    # making a constructor of the class\n",
    "    def __init__(self, name, age, level, salary):\n",
    "        # all the attributes/properties --> instance attributes\n",
    "        self.name = name\n",
    "        self.age = age\n",
    "        self.level = level\n",
    "        self.salary = salary\n",
    "    \n",
    "    # instance method\n",
    "    def code(self):\n",
    "        print(f\"{self.name} is writting code...\")\n",
    "    \n",
    "    def code_in_lang(self, lang):\n",
    "        print(f\"{self.name} is writting code in {lang} ...\")\n",
    "\n",
    "    def information(self):\n",
    "        print(f\"Name: {self.name} Age: {self.age} Level: {self.level} Salary: {self.salary}\")\n",
    "\n",
    "    # some special method\n",
    "    '''\n",
    "    special methods are some methods which will be having some specific special properties within itself\n",
    "    for e.g: __init__ is a kind of a special instance method which actually acts like a constructor\n",
    "    similarly there are some more \"_\" methods as follows\n",
    "    '''\n",
    "\n",
    "    def __str__(self):\n",
    "        # this will be executes whenever the we need to print anything in the format of string\n",
    "        '''\n",
    "        for eg while printing the info of the software engg, we need to make function that will print\n",
    "        and further we need to call that function evertime in order to see the informations\n",
    "        instead we can make a function that will automatically takes the self and print the require str info\n",
    "        while simply printing the object, and so we will not need any print_info kind of function\n",
    "        '''\n",
    "        information = f\"Name: {self.name} Age: {self.age} Level: {self.level} Salary: {self.salary}\"\n",
    "        return information\n",
    "    \n",
    "    def __eq__(self, other):\n",
    "        # this will execute whenver we will have two comare two objects and their properties\n",
    "        '''\n",
    "        by default for eg: we have two classes as -->\n",
    "        sd1 = SoftwareEngg(\"Kaka\", 44, \"Senior\", 10000)\n",
    "        sd2 = SoftwareEngg(\"Kaka\", 44, \"Senior\", 10000)\n",
    "\n",
    "        now if we say that print(sd1 == sd2) --> return false (why?)\n",
    "        as it compares on the basis of the memory location by default\n",
    "        but by making this function we can actually comare within two objects two check duplicacy \n",
    "        or any other checking\n",
    "        '''\n",
    "        # let us assume that we want to check whether they have same name , age , level\n",
    "        return self.name == other.name and self.age == other.age and self.level == other.level\n",
    "    \n",
    "    def get_entry_salary_by_sd(self):\n",
    "        if self.age < 20 :\n",
    "            return 4000\n",
    "        elif self.age >= 20 and self.age < 40:\n",
    "            return 5000\n",
    "        else:\n",
    "            return 10000\n",
    "    \n",
    "    # defining a class function like a class variable\n",
    "    '''\n",
    "    This will only work as an universal function ir-respective of the instance given\n",
    "    so here we donot need to provide any self to it, as it will act like a global function (but only for a specific class)\n",
    "    so it will take ACTUAL 1 arcgument\n",
    "    so by passing with an object will give an error like this \"get_entry_salary() takes 1 positional argument but 2 were given\"\n",
    "    so we have to pass only through the class name\n",
    "    '''\n",
    "    def get_entry_salary(age):\n",
    "        if age < 20 :\n",
    "            return 4000\n",
    "        elif age >= 20 and age < 40:\n",
    "            return 5000\n",
    "        else:\n",
    "            return 10000\n",
    "    '''\n",
    "    BUT genarally by defining a class function, it crashes if we pass w.r.t an instance\n",
    "    on the same time if we add a decorater \"@\" called @staticmethod then it will work as a both\n",
    "    class as well as an instance variable and so we will not get any error\n",
    "    Here the self argument will NOT be passed here\n",
    "    '''\n",
    "    @staticmethod\n",
    "    def give_promotion(age, level, current_salary):\n",
    "        if age > 30 and level == 'Junior' and current_salary >= 4000:\n",
    "            return f\"promotion to salary = {5000} and level = senior\"\n",
    "        elif age > 40 and level == 'Senior' and current_salary >= 6000:\n",
    "            return f\"promotion to salary = {5000} and level = Product Manager\"\n",
    "        else:\n",
    "            return f\"work harder\""
   ]
  },
  {
   "cell_type": "code",
   "execution_count": 64,
   "metadata": {},
   "outputs": [
    {
     "output_type": "display_data",
     "data": {
      "text/plain": "Kaka is writting code\u001b[33m...\u001b[0m\n",
      "text/html": "<pre style=\"white-space:pre;overflow-x:auto;line-height:normal;font-family:Menlo,'DejaVu Sans Mono',consolas,'Courier New',monospace\">Kaka is writting code<span style=\"color: #808000; text-decoration-color: #808000\">...</span>\n</pre>\n"
     },
     "metadata": {}
    },
    {
     "output_type": "display_data",
     "data": {
      "text/plain": "Kaka is writting code in C++ \u001b[33m...\u001b[0m\n",
      "text/html": "<pre style=\"white-space:pre;overflow-x:auto;line-height:normal;font-family:Menlo,'DejaVu Sans Mono',consolas,'Courier New',monospace\">Kaka is writting code in C++ <span style=\"color: #808000; text-decoration-color: #808000\">...</span>\n</pre>\n"
     },
     "metadata": {}
    },
    {
     "output_type": "display_data",
     "data": {
      "text/plain": "Name: Kaka Age: \u001b[1;36m44\u001b[0m Level: Senior Salary: \u001b[1;36m10000\u001b[0m\n",
      "text/html": "<pre style=\"white-space:pre;overflow-x:auto;line-height:normal;font-family:Menlo,'DejaVu Sans Mono',consolas,'Courier New',monospace\">Name: Kaka Age: <span style=\"color: #008080; text-decoration-color: #008080; font-weight: bold\">44</span> Level: Senior Salary: <span style=\"color: #008080; text-decoration-color: #008080; font-weight: bold\">10000</span>\n</pre>\n"
     },
     "metadata": {}
    },
    {
     "output_type": "display_data",
     "data": {
      "text/plain": "Name: Kaka Age: \u001b[1;36m44\u001b[0m Level: Senior Salary: \u001b[1;36m10000\u001b[0m\n",
      "text/html": "<pre style=\"white-space:pre;overflow-x:auto;line-height:normal;font-family:Menlo,'DejaVu Sans Mono',consolas,'Courier New',monospace\">Name: Kaka Age: <span style=\"color: #008080; text-decoration-color: #008080; font-weight: bold\">44</span> Level: Senior Salary: <span style=\"color: #008080; text-decoration-color: #008080; font-weight: bold\">10000</span>\n</pre>\n"
     },
     "metadata": {}
    }
   ],
   "source": [
    "sd1 = SoftwareEngg(\"Kaka\", 44, \"Senior\", 10000)\n",
    "\n",
    "sd1.code()\n",
    "sd1.code_in_lang(\"C++\")\n",
    "sd1.information()\n",
    "\n",
    "print(sd1)"
   ]
  },
  {
   "cell_type": "code",
   "execution_count": 65,
   "metadata": {},
   "outputs": [
    {
     "output_type": "display_data",
     "data": {
      "text/plain": "Name: Maxja Age: \u001b[1;36m33\u001b[0m Level: Product Manager Salary: \u001b[1;36m20000\u001b[0m\n",
      "text/html": "<pre style=\"white-space:pre;overflow-x:auto;line-height:normal;font-family:Menlo,'DejaVu Sans Mono',consolas,'Courier New',monospace\">Name: Maxja Age: <span style=\"color: #008080; text-decoration-color: #008080; font-weight: bold\">33</span> Level: Product Manager Salary: <span style=\"color: #008080; text-decoration-color: #008080; font-weight: bold\">20000</span>\n</pre>\n"
     },
     "metadata": {}
    },
    {
     "output_type": "display_data",
     "data": {
      "text/plain": "\u001b[3;91mFalse\u001b[0m\n",
      "text/html": "<pre style=\"white-space:pre;overflow-x:auto;line-height:normal;font-family:Menlo,'DejaVu Sans Mono',consolas,'Courier New',monospace\"><span style=\"color: #ff0000; text-decoration-color: #ff0000; font-style: italic\">False</span>\n</pre>\n"
     },
     "metadata": {}
    },
    {
     "output_type": "display_data",
     "data": {
      "text/plain": "\u001b[3;91mFalse\u001b[0m\n",
      "text/html": "<pre style=\"white-space:pre;overflow-x:auto;line-height:normal;font-family:Menlo,'DejaVu Sans Mono',consolas,'Courier New',monospace\"><span style=\"color: #ff0000; text-decoration-color: #ff0000; font-style: italic\">False</span>\n</pre>\n"
     },
     "metadata": {}
    },
    {
     "output_type": "display_data",
     "data": {
      "text/plain": "\u001b[3;92mTrue\u001b[0m\n",
      "text/html": "<pre style=\"white-space:pre;overflow-x:auto;line-height:normal;font-family:Menlo,'DejaVu Sans Mono',consolas,'Courier New',monospace\"><span style=\"color: #00ff00; text-decoration-color: #00ff00; font-style: italic\">True</span>\n</pre>\n"
     },
     "metadata": {}
    },
    {
     "output_type": "display_data",
     "data": {
      "text/plain": "\u001b[3;92mTrue\u001b[0m\n",
      "text/html": "<pre style=\"white-space:pre;overflow-x:auto;line-height:normal;font-family:Menlo,'DejaVu Sans Mono',consolas,'Courier New',monospace\"><span style=\"color: #00ff00; text-decoration-color: #00ff00; font-style: italic\">True</span>\n</pre>\n"
     },
     "metadata": {}
    }
   ],
   "source": [
    "sd2 = SoftwareEngg(\"Maxja\", 33, \"Product Manager\", 20000)\n",
    "sd3 = SoftwareEngg(\"Maxja\", 33, \"Product Manager\", 20000)\n",
    "\n",
    "print(sd2)\n",
    "print(sd1 == sd2) # now this will by deafult work as eq only\n",
    "print(sd1.__eq__(sd2)) # we can also directly impleament this (though not required, once written, no need to call like this)\n",
    "\n",
    "print(sd2 == sd3)\n",
    "print(sd2.__eq__(sd3))"
   ]
  },
  {
   "cell_type": "code",
   "execution_count": 66,
   "metadata": {},
   "outputs": [
    {
     "output_type": "display_data",
     "data": {
      "text/plain": "\u001b[1;36m5000\u001b[0m\n",
      "text/html": "<pre style=\"white-space:pre;overflow-x:auto;line-height:normal;font-family:Menlo,'DejaVu Sans Mono',consolas,'Courier New',monospace\"><span style=\"color: #008080; text-decoration-color: #008080; font-weight: bold\">5000</span>\n</pre>\n"
     },
     "metadata": {}
    },
    {
     "output_type": "display_data",
     "data": {
      "text/plain": "\u001b[1;36m5000\u001b[0m\n",
      "text/html": "<pre style=\"white-space:pre;overflow-x:auto;line-height:normal;font-family:Menlo,'DejaVu Sans Mono',consolas,'Courier New',monospace\"><span style=\"color: #008080; text-decoration-color: #008080; font-weight: bold\">5000</span>\n</pre>\n"
     },
     "metadata": {}
    }
   ],
   "source": [
    "print(sd2.get_entry_salary_by_sd()) # calling a instance\n",
    "print(SoftwareEngg.get_entry_salary(33))   # using a class function (directly)"
   ]
  },
  {
   "cell_type": "code",
   "execution_count": 68,
   "metadata": {},
   "outputs": [
    {
     "output_type": "display_data",
     "data": {
      "text/plain": "promotion to salary = \u001b[1;36m5000\u001b[0m and level = Product Manager\n",
      "text/html": "<pre style=\"white-space:pre;overflow-x:auto;line-height:normal;font-family:Menlo,'DejaVu Sans Mono',consolas,'Courier New',monospace\">promotion to salary = <span style=\"color: #008080; text-decoration-color: #008080; font-weight: bold\">5000</span> and level = Product Manager\n</pre>\n"
     },
     "metadata": {}
    },
    {
     "output_type": "display_data",
     "data": {
      "text/plain": "work harder\n",
      "text/html": "<pre style=\"white-space:pre;overflow-x:auto;line-height:normal;font-family:Menlo,'DejaVu Sans Mono',consolas,'Courier New',monospace\">work harder\n</pre>\n"
     },
     "metadata": {}
    }
   ],
   "source": [
    "# using a class method calling\n",
    "print(SoftwareEngg.give_promotion(42, \"Senior\", 8000))\n",
    "\n",
    "# using as an instance method calling\n",
    "print(sd2.give_promotion(sd2.age, sd2.level, sd2.salary))"
   ]
  },
  {
   "source": [
    "### recap till here (what I can do now) -->\n",
    "\n",
    "1. How to create an instance method\n",
    "2. How to create a class method\n",
    "3. How to create some special functions like __str__, __eq__ and their importance\n",
    "4. Why and where self is used\n",
    "5. difference between class and instance method\n",
    "6. How to create a static function (using @) with the help of a decorator that will be applicable for both class and instance method\n",
    "7. Importance of decorator in the static method"
   ],
   "cell_type": "markdown",
   "metadata": {}
  }
 ]
}