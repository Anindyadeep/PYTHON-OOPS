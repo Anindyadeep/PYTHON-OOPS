{
 "cells": [
  {
   "cell_type": "markdown",
   "id": "39a8beb0",
   "metadata": {},
   "source": [
    "```\n",
    "simple super() function usage in python \n",
    "````"
   ]
  },
  {
   "cell_type": "code",
   "execution_count": 3,
   "id": "03296a47",
   "metadata": {},
   "outputs": [],
   "source": [
    "'''\n",
    "we are defining two classes:\n",
    "1. rectangle\n",
    "2. square\n",
    "and defining those two classes havong different properties but\n",
    "two same functions viz area and the perimeter\n",
    "first we will be doing this without using the super() method and \n",
    "then we will be doing this by using super() method in python\n",
    "'''\n",
    "\n",
    "# defining the class rectangle\n",
    "class Rectangle:\n",
    "    def __init__(self, length, breadth):\n",
    "        self.length = length\n",
    "        self.breadth = breadth\n",
    "    \n",
    "    def perimeter(self):\n",
    "        return 2*(self.length + self.breadth)\n",
    "    def area(self):\n",
    "        return self.length * self.breadth\n",
    "    \n",
    "# defining the class square\n",
    "class Square:\n",
    "    def __init__(self, side):\n",
    "        self.side = side\n",
    "    def primeter(self):\n",
    "        return 4 * self.side\n",
    "    def area(self):\n",
    "        return self.side * self.side"
   ]
  },
  {
   "cell_type": "code",
   "execution_count": 4,
   "id": "f790b4ab",
   "metadata": {},
   "outputs": [
    {
     "name": "stdout",
     "output_type": "stream",
     "text": [
      "10 6\n",
      "8 4\n"
     ]
    }
   ],
   "source": [
    "rect = Rectangle(2,3)\n",
    "sq = Square(2)\n",
    "\n",
    "print(rect.perimeter(), rect.area())\n",
    "print(sq.primeter(), sq.area())"
   ]
  },
  {
   "cell_type": "markdown",
   "id": "f1eecb58",
   "metadata": {},
   "source": [
    "```using super().__init__ function in python```"
   ]
  },
  {
   "cell_type": "code",
   "execution_count": 7,
   "id": "01c946c9",
   "metadata": {},
   "outputs": [],
   "source": [
    "'''\n",
    "As told previous that the super().__init__(self, param)\n",
    "genarally inherits all the properties and fucntions of the parent class.\n",
    "And here I will show how that works intuitively.\n",
    "'''\n",
    "# defining the parent class Rectangle once again \n",
    "class Rectangle:\n",
    "    def __init__(self, length, breadth):\n",
    "        self.length = length\n",
    "        self.breadth = breadth\n",
    "    \n",
    "    def perimeter(self):\n",
    "        return 2*(self.length + self.breadth)\n",
    "    def area(self):\n",
    "        return self.length * self.breadth\n",
    "    \n",
    "class Square(Rectangle):\n",
    "    # here first this class has become a child of the Rectangle class (parent)\n",
    "    def __init__(self, sides):\n",
    "        super().__init__(sides, sides)\n",
    "        '''\n",
    "        Here this super is acting like an object of the Rectangle class which is \n",
    "        defined inside the class Square, so now it can automatically get all the properties \n",
    "        of the parent class. As we defined with parameters of the sides, \n",
    "        so it will look like this:\n",
    "        \n",
    "        in the Rectangle class\n",
    "        self.length = sides (# of the child class)\n",
    "        self.breadth = sides (# of the child class)\n",
    "        \n",
    "        now this will perform all the functions based on the \"sides\" parameter as\n",
    "        length as well as breadth\n",
    "        '''"
   ]
  },
  {
   "cell_type": "code",
   "execution_count": 8,
   "id": "4f818400",
   "metadata": {},
   "outputs": [
    {
     "name": "stdout",
     "output_type": "stream",
     "text": [
      "12\n",
      "9\n"
     ]
    }
   ],
   "source": [
    "sq1 = Square(3)\n",
    "print(sq1.perimeter())\n",
    "print(sq1.area())"
   ]
  },
  {
   "cell_type": "markdown",
   "id": "d1834b8c",
   "metadata": {},
   "source": [
    "``` Calling super() directly in methods rather in initialising it```"
   ]
  },
  {
   "cell_type": "code",
   "execution_count": 20,
   "id": "a54b5e70",
   "metadata": {},
   "outputs": [],
   "source": [
    "'''\n",
    "In the previous methods we have already defined two classes viz:\n",
    "1. Reactangle class (main parent class)\n",
    "2. Square class (child class/ sub class)\n",
    "\n",
    "Now we want to define third class called \"Cube\", which will \n",
    "inherit all the properties from the \"Square\" class. BUT we will not use \n",
    "the super().__init__(params) to inherit the properties, rather we will try to inherit \n",
    "as well as EXTEND the properties of the parent class to this sub class, as shown below\n",
    "'''\n",
    "\n",
    "class Cube(Square):\n",
    "    def surface_area(self):\n",
    "        area = super().area()\n",
    "        face_area = 6 * area\n",
    "        return face_area\n",
    "    \n",
    "    def volume(self):\n",
    "       face_area = super().area()\n",
    "       return face_area * self.length"
   ]
  },
  {
   "cell_type": "code",
   "execution_count": 24,
   "id": "2cc1ad88",
   "metadata": {},
   "outputs": [
    {
     "name": "stdout",
     "output_type": "stream",
     "text": [
      "54\n",
      "27\n"
     ]
    }
   ],
   "source": [
    "'''\n",
    "Please pay attention, there are several things to NOTE here\n",
    "\n",
    "1. we can see that the def __init__(self, params) is NOT there as because we are\n",
    "   already inheriting everything from the parent sub class (Square), and its main \n",
    "   parent class (Rectangle), so now we do not need to re-initialize everything once\n",
    "   more, as it automatically takes the parameters once we define while calling the class\n",
    "   in an object and the .__init__() of the superclass (Square) will be called automatically.\n",
    "   \n",
    "   so what is happening here:\n",
    "   when we call -->\n",
    "   cube = Cube(3) \n",
    "               |\n",
    "               |\n",
    "               |\n",
    "               \\/\n",
    "               goes to the def __init__(self, sides) of the square class\n",
    "               which further calls super().__init__(sides, sides) and this side is \n",
    "               passed from the Cube class indirectly\n",
    "               |\n",
    "               |\n",
    "               \\/\n",
    "               now it goes to the main parent class, which is \"Rectangle\", and\n",
    "               that will intialize the parameter 3 (passed from the cube obj) as:\n",
    "               self.length = 3\n",
    "               self.breadth = 3\n",
    "               \n",
    "               NOTE: self.sides has no direct role, so while calling self.sides\n",
    "               in the Cube class will show an error where as self.length or self.breadth\n",
    "               will not show error coz , actually everything is called fom there\n",
    "\n",
    "2. so now suppose when we call in class Cube:\n",
    "   Area = super().area() # in the Cube class\n",
    "                    |\n",
    "                    |\n",
    "                    \\/\n",
    "                    goes into the Square class and through the Square class\n",
    "                    it goes to the main parent class Rectangle, and this happens\n",
    "                    return (self.length * self.breadth) = (3*3)\n",
    "                    now this will be return by the Area parameter (here in this eg)\n",
    "'''\n",
    "cube = Cube(3)\n",
    "print(cube.surface_area())\n",
    "print(cube.volume())"
   ]
  },
  {
   "cell_type": "markdown",
   "id": "35b1c48b",
   "metadata": {},
   "source": [
    "```Parameters in the super()```"
   ]
  },
  {
   "cell_type": "code",
   "execution_count": 61,
   "id": "67128544",
   "metadata": {},
   "outputs": [],
   "source": [
    "'''\n",
    "Now as we have been already seen that how the super() works, we will deep dive more into\n",
    "this super() and see the parameters and try to tweak them\n",
    "'''\n",
    "\n",
    "class Employee:\n",
    "    def __init__(self, name, age, salary):\n",
    "        self.name = name\n",
    "        self.age = age\n",
    "        self.salary = salary\n",
    "    \n",
    "    def compute_employee_current_salary(self):\n",
    "        return self.age * self.salary\n",
    "    def info(self):\n",
    "        return f\"Name: {self.name}, age: {self.age}, salary: {self.salary}\"\n",
    "\n",
    "class Coder(Employee):\n",
    "    def __init__(self, name, age, salary, level):\n",
    "        super(Coder, self).__init__(name, age, salary)\n",
    "        '''\n",
    "        NOTE: We will provide only those parameters after init which can be accessed\n",
    "              and can also be computed by the main parent class.And so we are not taking \n",
    "              the \"level\" parameter as, its a separate class parameter, which we will \n",
    "              use later\n",
    "        \n",
    "        Next we are passing two parameters in the super(), one is the from the class it \n",
    "        belongs to, i.e. the Coder class and second parameter is the self parameter\n",
    "        \n",
    "        NOTE: super() is equivalent to super(Coder, self) in python3\n",
    "        So as the first parameter is calling the class, which will refer to the subclass and \n",
    "        the second parameter will refer to the \"Coder\" as an object which is \"self\" \n",
    "        (in this case)\n",
    "        \n",
    "        '''\n",
    "        self.level = level\n",
    "    \n",
    "    def compute_total_salary(self):\n",
    "        current_emp_salary = super(Coder, self).compute_employee_current_salary()\n",
    "        if self.level >= 10:\n",
    "            return self.level * current_emp_salary\n",
    "        else:\n",
    "            return current_emp_salary\n",
    "    def show_salary_computation(self):\n",
    "        age_of_coder = self.age\n",
    "        level_coder =  self.level\n",
    "        print(age_of_coder, level_coder)"
   ]
  },
  {
   "cell_type": "code",
   "execution_count": 62,
   "id": "718713b8",
   "metadata": {},
   "outputs": [
    {
     "data": {
      "text/plain": [
       "'Name: Max, age: 44, salary: 4500'"
      ]
     },
     "execution_count": 62,
     "metadata": {},
     "output_type": "execute_result"
    }
   ],
   "source": [
    "coder = Coder(\"Max\", 44, 4500, 12)\n",
    "coder.info()"
   ]
  },
  {
   "cell_type": "code",
   "execution_count": 55,
   "id": "d9736c4a",
   "metadata": {},
   "outputs": [
    {
     "data": {
      "text/plain": [
       "2376000"
      ]
     },
     "execution_count": 55,
     "metadata": {},
     "output_type": "execute_result"
    }
   ],
   "source": [
    "coder.compute_total_salary() # which will be = (age * salary) * level = (44 * 4500) * 12"
   ]
  }
 ],
 "metadata": {
  "kernelspec": {
   "display_name": "Python 3",
   "language": "python",
   "name": "python3"
  },
  "language_info": {
   "codemirror_mode": {
    "name": "ipython",
    "version": 3
   },
   "file_extension": ".py",
   "mimetype": "text/x-python",
   "name": "python",
   "nbconvert_exporter": "python",
   "pygments_lexer": "ipython3",
   "version": "3.7.10"
  }
 },
 "nbformat": 4,
 "nbformat_minor": 5
}
