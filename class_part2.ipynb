{
 "metadata": {
  "language_info": {
   "codemirror_mode": {
    "name": "ipython",
    "version": 3
   },
   "file_extension": ".py",
   "mimetype": "text/x-python",
   "name": "python",
   "nbconvert_exporter": "python",
   "pygments_lexer": "ipython3",
   "version": "3.9.4"
  },
  "orig_nbformat": 2,
  "kernelspec": {
   "name": "python394jvsc74a57bd0f9365ada79d4ca070e42fe521b3f822dc5811645815a88dda998e5a755279ac6",
   "display_name": "Python 3.9.4 64-bit ('segmind': conda)"
  },
  "metadata": {
   "interpreter": {
    "hash": "f9365ada79d4ca070e42fe521b3f822dc5811645815a88dda998e5a755279ac6"
   }
  }
 },
 "nbformat": 4,
 "nbformat_minor": 2,
 "cells": [
  {
   "source": [
    "## PART 2\n",
    "1. **INHERITANCE**\n",
    "2. **POLYMORPHISM**"
   ],
   "cell_type": "markdown",
   "metadata": {}
  },
  {
   "source": [
    "### Inheritance"
   ],
   "cell_type": "markdown",
   "metadata": {}
  },
  {
   "cell_type": "code",
   "execution_count": 25,
   "metadata": {},
   "outputs": [],
   "source": [
    "'''\n",
    "Context:\n",
    "Let us assume we have 3 classes\n",
    "1. Employee\n",
    "2. SoftareEnggineer\n",
    "3. Designer\n",
    "\n",
    "Now all the three classes will have some common attributes like:\n",
    "Both of them will show their common public credentials like Name, age etc\n",
    "Only the level will be different for each of the classes\n",
    "\n",
    "for e.g:\n",
    "    SoftwareEngginer will have levels like Junior or Senior Developer\n",
    "    where as Designer will not have this kind of levels\n",
    "\n",
    "So in cases like that we genarally operate with inheritance such that\n",
    "the common methods are need not to be repeated again instead they will be called with the \n",
    "help of inheritance\n",
    "'''\n",
    "\n",
    "# here let Employee be the parent class and SoftwareEngginer and Designer\n",
    "# are its two child classes\n",
    "\n",
    "class Employee:\n",
    "    def __init__(self, name, age, salary):\n",
    "        self.name = name\n",
    "        self.age = age\n",
    "        self.salary = salary\n",
    "\n",
    "    def work(self):\n",
    "        return f\"{self.name} is working ...\"\n",
    "\n",
    "class SoftareEnggineer(Employee):\n",
    "    # it will inherits all of the attributes and function of the parents\n",
    "    # we can extend as well as over-ride this\n",
    "    \n",
    "    # Now we donot need to do self.name = name (as it is already in the base function class Employee)\n",
    "    # so after writting def __init__ we need --> super().__init__ this will take the constructor of the base class\n",
    "    # super() is the initializer of parent class\n",
    "\n",
    "    def __init__(self, name, age, salary, level):\n",
    "        super().__init__(name, age, salary)\n",
    "        self.level = level\n",
    "    \n",
    "    # now a function only for the SoftwareEngginer class (extending)\n",
    "    def debug(self):\n",
    "        return f\"{self.name} is debugging\"\n",
    "\n",
    "    # defining fucntions of same name (over-riding)\n",
    "    def work(self):\n",
    "        return f\"{self.name} is coding ...\"\n",
    "\n",
    "class Designer(Employee):\n",
    "    # it will inherits all of the attributes and function of the parents\n",
    "    # we can extend as well as over-ride this\n",
    "    \n",
    "    def draw(self):\n",
    "        return f\"{self.name} is drawing\"\n",
    "    \n",
    "    # over-riding\n",
    "    '''\n",
    "    Genarally over-riding is considered very powerfull when we do not want redundant things to happen\n",
    "    or simply when it is very much required to give same function name on some child class\n",
    "    '''\n",
    "    def work(self):\n",
    "        return f\"{self.name} is designing ...\""
   ]
  },
  {
   "cell_type": "code",
   "execution_count": 26,
   "metadata": {},
   "outputs": [
    {
     "output_type": "stream",
     "name": "stdout",
     "text": [
      "Max 33\nMax is coding ...\nMax is debugging\n"
     ]
    }
   ],
   "source": [
    "sd = SoftareEnggineer(\"Max\", 33, 7000, \"Junior\")\n",
    "print(sd.name, sd.age)\n",
    "print(sd.work()) # if we try to over-ride this, it will show SoftwareEngg class fuction not for the parent class\n",
    "print(sd.debug())"
   ]
  },
  {
   "cell_type": "code",
   "execution_count": 27,
   "metadata": {},
   "outputs": [
    {
     "output_type": "stream",
     "name": "stdout",
     "text": [
      "Lisa 44\nLisa is designing ...\nLisa is drawing\n"
     ]
    }
   ],
   "source": [
    "de = Designer(\"Lisa\", 44, 8000) # we can see how we are not including the level while using Designer class\n",
    "print(de.name, de.age)\n",
    "print(de.work())\n",
    "print(de.draw())"
   ]
  },
  {
   "source": [
    "### Polymorphism"
   ],
   "cell_type": "markdown",
   "metadata": {}
  },
  {
   "cell_type": "code",
   "execution_count": 28,
   "metadata": {},
   "outputs": [],
   "source": [
    "'''\n",
    "Context:\n",
    "Let us assume like SoftwareEnnginer and Designer we have more several similar kind of child class lik ML engg etc\n",
    "having the same parent Employee\n",
    "But we want to make a function that will not see that it is in which class, instead it will treat as Employee and will\n",
    "execute the function. This way of actually treating all the classes as an attrinutes of the parent class is called \n",
    "polymorphism\n",
    "'''\n",
    "\n",
    "employees = [\n",
    "    SoftareEnggineer(\"Max\", 30, 6000, \"Junior\"),\n",
    "    SoftareEnggineer(\"Lisa\", 40, 10000, \"Senior\"),\n",
    "    Designer(\"Mark\", 22, 5000)]"
   ]
  },
  {
   "cell_type": "code",
   "execution_count": 29,
   "metadata": {},
   "outputs": [],
   "source": [
    "def motivate_employees(employees):\n",
    "    for employee in employees:\n",
    "        print(employee.work())"
   ]
  },
  {
   "cell_type": "code",
   "execution_count": 32,
   "metadata": {},
   "outputs": [
    {
     "output_type": "stream",
     "name": "stdout",
     "text": [
      "Max is coding ...\nLisa is coding ...\nMark is designing ...\n"
     ]
    }
   ],
   "source": [
    "motivate_employees(employees=employees)"
   ]
  },
  {
   "source": [
    "#### Recap -->\n",
    "1. Inheritance\n",
    "2. How to use child class\n",
    "3. Inherit the attributes and functions\n",
    "4. Extend the attributes and functions\n",
    "5. Override the attributes and function\n",
    "6. Using the method super().__init__\n",
    "7. Polymorphism (doubt)"
   ],
   "cell_type": "markdown",
   "metadata": {}
  }
 ]
}