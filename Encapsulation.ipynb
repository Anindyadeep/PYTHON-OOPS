{
 "metadata": {
  "language_info": {
   "codemirror_mode": {
    "name": "ipython",
    "version": 3
   },
   "file_extension": ".py",
   "mimetype": "text/x-python",
   "name": "python",
   "nbconvert_exporter": "python",
   "pygments_lexer": "ipython3",
   "version": "3.9.4"
  },
  "orig_nbformat": 2,
  "kernelspec": {
   "name": "python394jvsc74a57bd0f9365ada79d4ca070e42fe521b3f822dc5811645815a88dda998e5a755279ac6",
   "display_name": "Python 3.9.4 64-bit ('segmind': conda)"
  },
  "metadata": {
   "interpreter": {
    "hash": "f9365ada79d4ca070e42fe521b3f822dc5811645815a88dda998e5a755279ac6"
   }
  }
 },
 "nbformat": 4,
 "nbformat_minor": 2,
 "cells": [
  {
   "source": [
    "## PART 3\n",
    "1. **CREATING ENCAPSULATION**\n",
    "2. **MAKING AN ABSTRACTION TO THE FUCTION**"
   ],
   "cell_type": "markdown",
   "metadata": {}
  },
  {
   "cell_type": "code",
   "execution_count": 57,
   "metadata": {},
   "outputs": [],
   "source": [
    "class SoftwareEnginner:\n",
    "    \n",
    "    # making a constructor which will be containing public, protected and private variables\n",
    "    def __init__(self, name, age):\n",
    "        self.name = name\n",
    "        self.age = age\n",
    "        # the last two are private instance variables which cant be accessed publically (though they partially private)\n",
    "        # partial private means that they will not be visible but they can be accessed.\n",
    "        '''\n",
    "        So in order to make the variable invisible we can do like this: \n",
    "        self._var = var (just put a _ before the var)\n",
    "        and in order to make the variable completely in-accessable we can do like this [known as PROTECTED\" attributes strictly]\n",
    "        self.__var = var (just put double _ i.e. __ before the var) [known as \"PRIVATE\" attributes strictly]\n",
    "        '''\n",
    "        self._salary = None       # private but can be accessed (PROTECTED)\n",
    "        self._num_bugs_solved = 0  # private but can be accessed (PROTECTED)\n",
    "        self.__married = False     # completely private (PRIVATE)\n",
    "    \n",
    "    # making a setter function that will set the salary to a new salary (which is not public here)\n",
    "    '''\n",
    "    Now lets make the things more fun\n",
    "    first make a function that will set the marital status\n",
    "    second make a PRIVATE/PROTECTED function that will calculate based on the number of the bugs solved \n",
    "    and also the marital status\n",
    "    And then make a public function integrating the other two such that it will set the salary from the given salary based\n",
    "    on the parameters\n",
    "    '''\n",
    "    # TASK 1 (make a setter that will set the marital status)\n",
    "    def set_marital_status(self, status):\n",
    "        if status == \"married\" or status ==\"MARRIED\":\n",
    "            self.__married = True\n",
    "        else:\n",
    "            self.__married = False\n",
    "\n",
    "    def get_marital_status(self):\n",
    "        return self.__married\n",
    "    \n",
    "    # TASK 2 (make a private function that will calculate the salary)\n",
    "    '''\n",
    "    we only want to do this internally as we donot want to do this externally so we \n",
    "    are making a private/protected function that will do the tasks internally\n",
    "\n",
    "    Now this thing of making the function more abstract such that the public function gets \n",
    "    abstracted by the private function as in the public function another private/protected function is \n",
    "    running on the backend, and so this phenomenon is called ABSTRACTION\n",
    "    \n",
    "    '''\n",
    "    def __calculate_salary(self, base_value):\n",
    "        if self._num_bugs_solved < 10:\n",
    "            if self.__married:\n",
    "                return base_value * 1.2\n",
    "            else:\n",
    "                 return base_value\n",
    "        elif self._num_bugs_solved < 100:\n",
    "            if self.__married:\n",
    "                return base_value * 3\n",
    "            else:\n",
    "                return base_value * 2\n",
    "        else:\n",
    "            return base_value * 5\n",
    "\n",
    "    # TASK 3 (make a public function that will return the final salary based on the base_salary)\n",
    "    def set_salary(self, base_value):\n",
    "        self._salary = self.__calculate_salary(base_value) \n",
    "\n",
    "    # making a getter function that will get the salary (which is not public here)\n",
    "    def get_salary(self):\n",
    "        return self._salary\n",
    "    \n",
    "    # making a function that will increase the number of bugs solved\n",
    "    def code(self):\n",
    "        self._num_bugs_solved +=1"
   ]
  },
  {
   "cell_type": "code",
   "execution_count": 58,
   "metadata": {},
   "outputs": [
    {
     "output_type": "stream",
     "name": "stdout",
     "text": [
      "Max 25 None\n"
     ]
    }
   ],
   "source": [
    "sd = SoftwareEnginner(\"Max\", 25)\n",
    "print(sd.name, sd.age, sd._salary) # though it should not be accessed from here"
   ]
  },
  {
   "cell_type": "code",
   "execution_count": 59,
   "metadata": {},
   "outputs": [],
   "source": [
    "# a better way is:\n",
    "sd1 = SoftwareEnginner(\"Mark\", 33)"
   ]
  },
  {
   "cell_type": "code",
   "execution_count": 60,
   "metadata": {},
   "outputs": [
    {
     "output_type": "stream",
     "name": "stdout",
     "text": [
      "True\n"
     ]
    }
   ],
   "source": [
    "sd1.set_marital_status(\"married\")\n",
    "print(sd1.get_marital_status())"
   ]
  },
  {
   "cell_type": "code",
   "execution_count": 61,
   "metadata": {},
   "outputs": [
    {
     "output_type": "stream",
     "name": "stdout",
     "text": [
      "2400.0\n"
     ]
    }
   ],
   "source": [
    "sd1.set_salary(2000)\n",
    "print(sd1.get_salary())"
   ]
  },
  {
   "cell_type": "code",
   "execution_count": 64,
   "metadata": {},
   "outputs": [],
   "source": [
    "for i in range(10):\n",
    "    sd1.code()"
   ]
  },
  {
   "cell_type": "code",
   "execution_count": 65,
   "metadata": {},
   "outputs": [
    {
     "output_type": "stream",
     "name": "stdout",
     "text": [
      "6000\n"
     ]
    }
   ],
   "source": [
    "sd1.set_salary(2000)\n",
    "print(sd1.get_salary())"
   ]
  },
  {
   "source": [
    "### some more ways for getter and setters (more pythonic way)"
   ],
   "cell_type": "markdown",
   "metadata": {}
  },
  {
   "cell_type": "code",
   "execution_count": 71,
   "metadata": {},
   "outputs": [],
   "source": [
    "class employee:\n",
    "\n",
    "    def __init__(self):\n",
    "        self._salary = None\n",
    "    '''\n",
    "    A more pythonic way to make getters and setters is by using decorators\n",
    "    i.e. using @property and @<func_name>.setter we can actually make it more efficient as a non function \n",
    "    type in order to access or modify the things up.\n",
    "    Whats the significance?\n",
    "    1. we are reducing the number of the functions, so that would be more easier to access and remmember\n",
    "    2. ALso are reducing the overall complexity of the code\n",
    "    '''\n",
    "    # getter using decorator\n",
    "    @property\n",
    "    def salary(self):\n",
    "        return self._salary\n",
    "    \n",
    "    @salary.setter\n",
    "    def salary(self, value):\n",
    "        self._salary = value"
   ]
  },
  {
   "cell_type": "code",
   "execution_count": 74,
   "metadata": {},
   "outputs": [],
   "source": [
    "se = employee()\n",
    "\n",
    "# now we will be accessing the salary in a more easier way than before\n",
    "se.salary = 4000"
   ]
  },
  {
   "cell_type": "code",
   "execution_count": 75,
   "metadata": {},
   "outputs": [
    {
     "output_type": "stream",
     "name": "stdout",
     "text": [
      "4000\n"
     ]
    }
   ],
   "source": [
    "print(se.salary)"
   ]
  },
  {
   "source": [
    "### RECAP -->\n",
    "1. Encapsulation\n",
    "2. Abstraction of functions with the help of protected/private functions\n",
    "3. Using getters and setters using decorators "
   ],
   "cell_type": "markdown",
   "metadata": {}
  }
 ]
}
